{
 "cells": [
  {
   "cell_type": "markdown",
   "metadata": {},
   "source": [
    "# 处理BBBC021数据集"
   ]
  },
  {
   "cell_type": "code",
   "execution_count": 1,
   "metadata": {},
   "outputs": [
    {
     "name": "stdout",
     "output_type": "stream",
     "text": [
      "Found 55 ZIP files\n",
      "Extracting to: /data/pr/cellpainting/BBBC021/data/images\n"
     ]
    },
    {
     "name": "stderr",
     "output_type": "stream",
     "text": [
      "Extracting files: 100%|██████████| 55/55 [33:21<00:00, 36.39s/it]"
     ]
    },
    {
     "name": "stdout",
     "output_type": "stream",
     "text": [
      "\n",
      "Extraction completed!\n",
      "Successfully extracted: 55 files\n"
     ]
    },
    {
     "name": "stderr",
     "output_type": "stream",
     "text": [
      "\n"
     ]
    }
   ],
   "source": [
    "# 解压缩zip文件\n",
    "import os\n",
    "import zipfile\n",
    "from tqdm import tqdm\n",
    "import glob\n",
    "\n",
    "def main():\n",
    "    # 设置路径\n",
    "    base_dir = \"/data/pr/cellpainting/BBBC021/raw_data\"\n",
    "    target_dir = \"/data/pr/cellpainting/BBBC021/raw_data/images\"\n",
    "    \n",
    "    # 确保目标目录存在\n",
    "    os.makedirs(target_dir, exist_ok=True)\n",
    "    \n",
    "    # 获取所有zip文件\n",
    "    zip_files = glob.glob(os.path.join(base_dir, \"*.zip\"))\n",
    "    total_files = len(zip_files)\n",
    "    \n",
    "    if total_files == 0:\n",
    "        print(\"No ZIP files found!\")\n",
    "        return\n",
    "    \n",
    "    print(f\"Found {total_files} ZIP files\")\n",
    "    print(f\"Extracting to: {target_dir}\")\n",
    "    \n",
    "    # 记录成功和失败的文件\n",
    "    success_files = []\n",
    "    failed_files = []\n",
    "    \n",
    "    # 使用tqdm创建进度条\n",
    "    for zip_path in tqdm(zip_files, desc=\"Extracting files\"):\n",
    "        try:\n",
    "            # 解压文件\n",
    "            with zipfile.ZipFile(zip_path, 'r') as zip_ref:\n",
    "                zip_ref.extractall(target_dir)\n",
    "            success_files.append(zip_path)\n",
    "        except Exception as e:\n",
    "            failed_files.append(f\"{zip_path}: {str(e)}\")\n",
    "    \n",
    "    # 打印结果\n",
    "    print(\"\\nExtraction completed!\")\n",
    "    print(f\"Successfully extracted: {len(success_files)} files\")\n",
    "    if failed_files:\n",
    "        print(\"\\nFailed to extract the following files:\")\n",
    "        for fail in failed_files:\n",
    "            print(fail)\n",
    "\n",
    "try:\n",
    "    main()\n",
    "except KeyboardInterrupt:\n",
    "    print(\"\\nProcess interrupted by user\")\n",
    "except Exception as e:\n",
    "    print(f\"\\nAn error occurred: {str(e)}\")"
   ]
  },
  {
   "cell_type": "markdown",
   "metadata": {},
   "source": [
    "# 将BBBC021原始三通道数据给merge成RGB图像，进行随机增强和训练数据集划分\n",
    "运行python /data/pr/DiT_AIVCdiff/pr_tutorial/utils/merge_BBBC021.py\n",
    "\n",
    "生成数据路径：\n",
    "/data/pr/cellpainting/BBBC021/raw_data/merged_rgb_images_train\n",
    "\n",
    "/data/pr/cellpainting/BBBC021/raw_data/merged_rgb_images_test\n",
    "\n",
    "/data/pr/cellpainting/BBBC021/raw_data/metadata/augmented_image_metadata.csv\n"
   ]
  },
  {
   "cell_type": "markdown",
   "metadata": {},
   "source": []
  }
 ],
 "metadata": {
  "kernelspec": {
   "display_name": "TRIGON",
   "language": "python",
   "name": "python3"
  },
  "language_info": {
   "codemirror_mode": {
    "name": "ipython",
    "version": 3
   },
   "file_extension": ".py",
   "mimetype": "text/x-python",
   "name": "python",
   "nbconvert_exporter": "python",
   "pygments_lexer": "ipython3",
   "version": "3.10.16"
  }
 },
 "nbformat": 4,
 "nbformat_minor": 2
}
